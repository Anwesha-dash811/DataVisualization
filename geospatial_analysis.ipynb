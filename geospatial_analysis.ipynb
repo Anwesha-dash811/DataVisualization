{
  "nbformat": 4,
  "nbformat_minor": 0,
  "metadata": {
    "colab": {
      "name": "geospatial_analysis.ipynb",
      "provenance": [],
      "collapsed_sections": [],
      "authorship_tag": "ABX9TyP4IJg7sbg1qvQd0FjWW3g9",
      "include_colab_link": true
    },
    "kernelspec": {
      "name": "python3",
      "display_name": "Python 3"
    }
  },
  "cells": [
    {
      "cell_type": "markdown",
      "metadata": {
        "id": "view-in-github",
        "colab_type": "text"
      },
      "source": [
        "<a href=\"https://colab.research.google.com/github/Anwesha-dash811/Datavisualization/blob/main/geospatial_analysis.ipynb\" target=\"_parent\"><img src=\"https://colab.research.google.com/assets/colab-badge.svg\" alt=\"Open In Colab\"/></a>"
      ]
    },
    {
      "cell_type": "code",
      "metadata": {
        "colab": {
          "base_uri": "https://localhost:8080/"
        },
        "id": "5OV9aGf5YC2L",
        "outputId": "f8179abb-b38f-442a-880b-835491100a60"
      },
      "source": [
        "!pip install geopandas"
      ],
      "execution_count": null,
      "outputs": [
        {
          "output_type": "stream",
          "text": [
            "Collecting geopandas\n",
            "\u001b[?25l  Downloading https://files.pythonhosted.org/packages/f7/a4/e66aafbefcbb717813bf3a355c8c4fc3ed04ea1dd7feb2920f2f4f868921/geopandas-0.8.1-py2.py3-none-any.whl (962kB)\n",
            "\r\u001b[K     |▍                               | 10kB 15.5MB/s eta 0:00:01\r\u001b[K     |▊                               | 20kB 21.1MB/s eta 0:00:01\r\u001b[K     |█                               | 30kB 11.0MB/s eta 0:00:01\r\u001b[K     |█▍                              | 40kB 9.0MB/s eta 0:00:01\r\u001b[K     |█▊                              | 51kB 4.7MB/s eta 0:00:01\r\u001b[K     |██                              | 61kB 4.9MB/s eta 0:00:01\r\u001b[K     |██▍                             | 71kB 5.4MB/s eta 0:00:01\r\u001b[K     |██▊                             | 81kB 5.7MB/s eta 0:00:01\r\u001b[K     |███                             | 92kB 6.0MB/s eta 0:00:01\r\u001b[K     |███▍                            | 102kB 6.3MB/s eta 0:00:01\r\u001b[K     |███▊                            | 112kB 6.3MB/s eta 0:00:01\r\u001b[K     |████                            | 122kB 6.3MB/s eta 0:00:01\r\u001b[K     |████▍                           | 133kB 6.3MB/s eta 0:00:01\r\u001b[K     |████▊                           | 143kB 6.3MB/s eta 0:00:01\r\u001b[K     |█████                           | 153kB 6.3MB/s eta 0:00:01\r\u001b[K     |█████▌                          | 163kB 6.3MB/s eta 0:00:01\r\u001b[K     |█████▉                          | 174kB 6.3MB/s eta 0:00:01\r\u001b[K     |██████▏                         | 184kB 6.3MB/s eta 0:00:01\r\u001b[K     |██████▌                         | 194kB 6.3MB/s eta 0:00:01\r\u001b[K     |██████▉                         | 204kB 6.3MB/s eta 0:00:01\r\u001b[K     |███████▏                        | 215kB 6.3MB/s eta 0:00:01\r\u001b[K     |███████▌                        | 225kB 6.3MB/s eta 0:00:01\r\u001b[K     |███████▉                        | 235kB 6.3MB/s eta 0:00:01\r\u001b[K     |████████▏                       | 245kB 6.3MB/s eta 0:00:01\r\u001b[K     |████████▌                       | 256kB 6.3MB/s eta 0:00:01\r\u001b[K     |████████▉                       | 266kB 6.3MB/s eta 0:00:01\r\u001b[K     |█████████▏                      | 276kB 6.3MB/s eta 0:00:01\r\u001b[K     |█████████▌                      | 286kB 6.3MB/s eta 0:00:01\r\u001b[K     |█████████▉                      | 296kB 6.3MB/s eta 0:00:01\r\u001b[K     |██████████▏                     | 307kB 6.3MB/s eta 0:00:01\r\u001b[K     |██████████▌                     | 317kB 6.3MB/s eta 0:00:01\r\u001b[K     |███████████                     | 327kB 6.3MB/s eta 0:00:01\r\u001b[K     |███████████▎                    | 337kB 6.3MB/s eta 0:00:01\r\u001b[K     |███████████▋                    | 348kB 6.3MB/s eta 0:00:01\r\u001b[K     |████████████                    | 358kB 6.3MB/s eta 0:00:01\r\u001b[K     |████████████▎                   | 368kB 6.3MB/s eta 0:00:01\r\u001b[K     |████████████▋                   | 378kB 6.3MB/s eta 0:00:01\r\u001b[K     |█████████████                   | 389kB 6.3MB/s eta 0:00:01\r\u001b[K     |█████████████▎                  | 399kB 6.3MB/s eta 0:00:01\r\u001b[K     |█████████████▋                  | 409kB 6.3MB/s eta 0:00:01\r\u001b[K     |██████████████                  | 419kB 6.3MB/s eta 0:00:01\r\u001b[K     |██████████████▎                 | 430kB 6.3MB/s eta 0:00:01\r\u001b[K     |██████████████▋                 | 440kB 6.3MB/s eta 0:00:01\r\u001b[K     |███████████████                 | 450kB 6.3MB/s eta 0:00:01\r\u001b[K     |███████████████▎                | 460kB 6.3MB/s eta 0:00:01\r\u001b[K     |███████████████▋                | 471kB 6.3MB/s eta 0:00:01\r\u001b[K     |████████████████                | 481kB 6.3MB/s eta 0:00:01\r\u001b[K     |████████████████▍               | 491kB 6.3MB/s eta 0:00:01\r\u001b[K     |████████████████▊               | 501kB 6.3MB/s eta 0:00:01\r\u001b[K     |█████████████████               | 512kB 6.3MB/s eta 0:00:01\r\u001b[K     |█████████████████▍              | 522kB 6.3MB/s eta 0:00:01\r\u001b[K     |█████████████████▊              | 532kB 6.3MB/s eta 0:00:01\r\u001b[K     |██████████████████              | 542kB 6.3MB/s eta 0:00:01\r\u001b[K     |██████████████████▍             | 552kB 6.3MB/s eta 0:00:01\r\u001b[K     |██████████████████▊             | 563kB 6.3MB/s eta 0:00:01\r\u001b[K     |███████████████████             | 573kB 6.3MB/s eta 0:00:01\r\u001b[K     |███████████████████▍            | 583kB 6.3MB/s eta 0:00:01\r\u001b[K     |███████████████████▊            | 593kB 6.3MB/s eta 0:00:01\r\u001b[K     |████████████████████            | 604kB 6.3MB/s eta 0:00:01\r\u001b[K     |████████████████████▍           | 614kB 6.3MB/s eta 0:00:01\r\u001b[K     |████████████████████▊           | 624kB 6.3MB/s eta 0:00:01\r\u001b[K     |█████████████████████           | 634kB 6.3MB/s eta 0:00:01\r\u001b[K     |█████████████████████▍          | 645kB 6.3MB/s eta 0:00:01\r\u001b[K     |█████████████████████▉          | 655kB 6.3MB/s eta 0:00:01\r\u001b[K     |██████████████████████▏         | 665kB 6.3MB/s eta 0:00:01\r\u001b[K     |██████████████████████▌         | 675kB 6.3MB/s eta 0:00:01\r\u001b[K     |██████████████████████▉         | 686kB 6.3MB/s eta 0:00:01\r\u001b[K     |███████████████████████▏        | 696kB 6.3MB/s eta 0:00:01\r\u001b[K     |███████████████████████▌        | 706kB 6.3MB/s eta 0:00:01\r\u001b[K     |███████████████████████▉        | 716kB 6.3MB/s eta 0:00:01\r\u001b[K     |████████████████████████▏       | 727kB 6.3MB/s eta 0:00:01\r\u001b[K     |████████████████████████▌       | 737kB 6.3MB/s eta 0:00:01\r\u001b[K     |████████████████████████▉       | 747kB 6.3MB/s eta 0:00:01\r\u001b[K     |█████████████████████████▏      | 757kB 6.3MB/s eta 0:00:01\r\u001b[K     |█████████████████████████▌      | 768kB 6.3MB/s eta 0:00:01\r\u001b[K     |█████████████████████████▉      | 778kB 6.3MB/s eta 0:00:01\r\u001b[K     |██████████████████████████▏     | 788kB 6.3MB/s eta 0:00:01\r\u001b[K     |██████████████████████████▌     | 798kB 6.3MB/s eta 0:00:01\r\u001b[K     |██████████████████████████▉     | 808kB 6.3MB/s eta 0:00:01\r\u001b[K     |███████████████████████████▎    | 819kB 6.3MB/s eta 0:00:01\r\u001b[K     |███████████████████████████▋    | 829kB 6.3MB/s eta 0:00:01\r\u001b[K     |████████████████████████████    | 839kB 6.3MB/s eta 0:00:01\r\u001b[K     |████████████████████████████▎   | 849kB 6.3MB/s eta 0:00:01\r\u001b[K     |████████████████████████████▋   | 860kB 6.3MB/s eta 0:00:01\r\u001b[K     |█████████████████████████████   | 870kB 6.3MB/s eta 0:00:01\r\u001b[K     |█████████████████████████████▎  | 880kB 6.3MB/s eta 0:00:01\r\u001b[K     |█████████████████████████████▋  | 890kB 6.3MB/s eta 0:00:01\r\u001b[K     |██████████████████████████████  | 901kB 6.3MB/s eta 0:00:01\r\u001b[K     |██████████████████████████████▎ | 911kB 6.3MB/s eta 0:00:01\r\u001b[K     |██████████████████████████████▋ | 921kB 6.3MB/s eta 0:00:01\r\u001b[K     |███████████████████████████████ | 931kB 6.3MB/s eta 0:00:01\r\u001b[K     |███████████████████████████████▎| 942kB 6.3MB/s eta 0:00:01\r\u001b[K     |███████████████████████████████▋| 952kB 6.3MB/s eta 0:00:01\r\u001b[K     |████████████████████████████████| 962kB 6.3MB/s eta 0:00:01\r\u001b[K     |████████████████████████████████| 972kB 6.3MB/s \n",
            "\u001b[?25hRequirement already satisfied: shapely in /usr/local/lib/python3.6/dist-packages (from geopandas) (1.7.1)\n",
            "Collecting pyproj>=2.2.0\n",
            "\u001b[?25l  Downloading https://files.pythonhosted.org/packages/e4/ab/280e80a67cfc109d15428c0ec56391fc03a65857b7727cf4e6e6f99a4204/pyproj-3.0.0.post1-cp36-cp36m-manylinux2010_x86_64.whl (6.4MB)\n",
            "\u001b[K     |████████████████████████████████| 6.5MB 17.2MB/s \n",
            "\u001b[?25hRequirement already satisfied: pandas>=0.23.0 in /usr/local/lib/python3.6/dist-packages (from geopandas) (1.1.5)\n",
            "Collecting fiona\n",
            "\u001b[?25l  Downloading https://files.pythonhosted.org/packages/37/94/4910fd55246c1d963727b03885ead6ef1cd3748a465f7b0239ab25dfc9a3/Fiona-1.8.18-cp36-cp36m-manylinux1_x86_64.whl (14.8MB)\n",
            "\u001b[K     |████████████████████████████████| 14.8MB 324kB/s \n",
            "\u001b[?25hRequirement already satisfied: certifi in /usr/local/lib/python3.6/dist-packages (from pyproj>=2.2.0->geopandas) (2020.12.5)\n",
            "Requirement already satisfied: python-dateutil>=2.7.3 in /usr/local/lib/python3.6/dist-packages (from pandas>=0.23.0->geopandas) (2.8.1)\n",
            "Requirement already satisfied: numpy>=1.15.4 in /usr/local/lib/python3.6/dist-packages (from pandas>=0.23.0->geopandas) (1.19.5)\n",
            "Requirement already satisfied: pytz>=2017.2 in /usr/local/lib/python3.6/dist-packages (from pandas>=0.23.0->geopandas) (2018.9)\n",
            "Requirement already satisfied: click<8,>=4.0 in /usr/local/lib/python3.6/dist-packages (from fiona->geopandas) (7.1.2)\n",
            "Requirement already satisfied: six>=1.7 in /usr/local/lib/python3.6/dist-packages (from fiona->geopandas) (1.15.0)\n",
            "Requirement already satisfied: attrs>=17 in /usr/local/lib/python3.6/dist-packages (from fiona->geopandas) (20.3.0)\n",
            "Collecting munch\n",
            "  Downloading https://files.pythonhosted.org/packages/cc/ab/85d8da5c9a45e072301beb37ad7f833cd344e04c817d97e0cc75681d248f/munch-2.5.0-py2.py3-none-any.whl\n",
            "Collecting click-plugins>=1.0\n",
            "  Downloading https://files.pythonhosted.org/packages/e9/da/824b92d9942f4e472702488857914bdd50f73021efea15b4cad9aca8ecef/click_plugins-1.1.1-py2.py3-none-any.whl\n",
            "Collecting cligj>=0.5\n",
            "  Downloading https://files.pythonhosted.org/packages/42/1e/947eadf10d6804bf276eb8a038bd5307996dceaaa41cfd21b7a15ec62f5d/cligj-0.7.1-py3-none-any.whl\n",
            "Installing collected packages: pyproj, munch, click-plugins, cligj, fiona, geopandas\n",
            "Successfully installed click-plugins-1.1.1 cligj-0.7.1 fiona-1.8.18 geopandas-0.8.1 munch-2.5.0 pyproj-3.0.0.post1\n"
          ],
          "name": "stdout"
        }
      ]
    },
    {
      "cell_type": "code",
      "metadata": {
        "id": "USFjNtejZazc"
      },
      "source": [
        "import pandas as pd\r\n",
        "import geopandas as gpd\r\n",
        "import numpy as np\r\n",
        "import matplotlib.pyplot as plt\r\n",
        "#Reading gdp dataset\r\n",
        "gdp = pd.read_csv('API_NY.GDP.MKTP.KD_DS2_en_csv_v2_1622113.csv', sep = ',', encoding='cp1252', skiprows=4)\r\n",
        "#Reading population dataset\r\n",
        "popu=pd.read_csv('API_SP.POP.TOTL_DS2_en_csv_v2_1637443.csv', sep = ',', encoding='cp1252', skiprows=4)\r\n",
        "#import world shape map externally, no need to have a saved fil\r\n",
        "world = gpd.read_file(gpd.datasets.get_path('naturalearth_lowres'))"
      ],
      "execution_count": null,
      "outputs": []
    },
    {
      "cell_type": "code",
      "metadata": {
        "colab": {
          "base_uri": "https://localhost:8080/",
          "height": 204
        },
        "id": "04j4PPYKQeC7",
        "outputId": "d0f37839-26f2-45d1-81e3-8e0041f02743"
      },
      "source": [
        "world.head()"
      ],
      "execution_count": null,
      "outputs": [
        {
          "output_type": "execute_result",
          "data": {
            "text/html": [
              "<div>\n",
              "<style scoped>\n",
              "    .dataframe tbody tr th:only-of-type {\n",
              "        vertical-align: middle;\n",
              "    }\n",
              "\n",
              "    .dataframe tbody tr th {\n",
              "        vertical-align: top;\n",
              "    }\n",
              "\n",
              "    .dataframe thead th {\n",
              "        text-align: right;\n",
              "    }\n",
              "</style>\n",
              "<table border=\"1\" class=\"dataframe\">\n",
              "  <thead>\n",
              "    <tr style=\"text-align: right;\">\n",
              "      <th></th>\n",
              "      <th>pop_est</th>\n",
              "      <th>continent</th>\n",
              "      <th>name</th>\n",
              "      <th>iso_a3</th>\n",
              "      <th>gdp_md_est</th>\n",
              "      <th>geometry</th>\n",
              "    </tr>\n",
              "  </thead>\n",
              "  <tbody>\n",
              "    <tr>\n",
              "      <th>0</th>\n",
              "      <td>920938</td>\n",
              "      <td>Oceania</td>\n",
              "      <td>Fiji</td>\n",
              "      <td>FJI</td>\n",
              "      <td>8374.0</td>\n",
              "      <td>MULTIPOLYGON (((180.00000 -16.06713, 180.00000...</td>\n",
              "    </tr>\n",
              "    <tr>\n",
              "      <th>1</th>\n",
              "      <td>53950935</td>\n",
              "      <td>Africa</td>\n",
              "      <td>Tanzania</td>\n",
              "      <td>TZA</td>\n",
              "      <td>150600.0</td>\n",
              "      <td>POLYGON ((33.90371 -0.95000, 34.07262 -1.05982...</td>\n",
              "    </tr>\n",
              "    <tr>\n",
              "      <th>2</th>\n",
              "      <td>603253</td>\n",
              "      <td>Africa</td>\n",
              "      <td>W. Sahara</td>\n",
              "      <td>ESH</td>\n",
              "      <td>906.5</td>\n",
              "      <td>POLYGON ((-8.66559 27.65643, -8.66512 27.58948...</td>\n",
              "    </tr>\n",
              "    <tr>\n",
              "      <th>3</th>\n",
              "      <td>35623680</td>\n",
              "      <td>North America</td>\n",
              "      <td>Canada</td>\n",
              "      <td>CAN</td>\n",
              "      <td>1674000.0</td>\n",
              "      <td>MULTIPOLYGON (((-122.84000 49.00000, -122.9742...</td>\n",
              "    </tr>\n",
              "    <tr>\n",
              "      <th>4</th>\n",
              "      <td>326625791</td>\n",
              "      <td>North America</td>\n",
              "      <td>United States of America</td>\n",
              "      <td>USA</td>\n",
              "      <td>18560000.0</td>\n",
              "      <td>MULTIPOLYGON (((-122.84000 49.00000, -120.0000...</td>\n",
              "    </tr>\n",
              "  </tbody>\n",
              "</table>\n",
              "</div>"
            ],
            "text/plain": [
              "     pop_est  ...                                           geometry\n",
              "0     920938  ...  MULTIPOLYGON (((180.00000 -16.06713, 180.00000...\n",
              "1   53950935  ...  POLYGON ((33.90371 -0.95000, 34.07262 -1.05982...\n",
              "2     603253  ...  POLYGON ((-8.66559 27.65643, -8.66512 27.58948...\n",
              "3   35623680  ...  MULTIPOLYGON (((-122.84000 49.00000, -122.9742...\n",
              "4  326625791  ...  MULTIPOLYGON (((-122.84000 49.00000, -120.0000...\n",
              "\n",
              "[5 rows x 6 columns]"
            ]
          },
          "metadata": {
            "tags": []
          },
          "execution_count": 24
        }
      ]
    },
    {
      "cell_type": "markdown",
      "metadata": {
        "id": "MoMfHukjLlW3"
      },
      "source": [
        "###### ****EXPLORING GDP DATASET****"
      ]
    },
    {
      "cell_type": "code",
      "metadata": {
        "id": "bkOuWlKdL2ne"
      },
      "source": [
        "gdp.info()"
      ],
      "execution_count": null,
      "outputs": []
    },
    {
      "cell_type": "code",
      "metadata": {
        "colab": {
          "base_uri": "https://localhost:8080/",
          "height": 204
        },
        "id": "5vV4GhvLL7pw",
        "outputId": "889f06c4-757f-41f9-80ad-51d687698979"
      },
      "source": [
        "df = gdp[['Country Name','1995','2005','2015']].fillna(0)\r\n",
        "df.columns\r\n",
        "df.head()"
      ],
      "execution_count": null,
      "outputs": [
        {
          "output_type": "execute_result",
          "data": {
            "text/html": [
              "<div>\n",
              "<style scoped>\n",
              "    .dataframe tbody tr th:only-of-type {\n",
              "        vertical-align: middle;\n",
              "    }\n",
              "\n",
              "    .dataframe tbody tr th {\n",
              "        vertical-align: top;\n",
              "    }\n",
              "\n",
              "    .dataframe thead th {\n",
              "        text-align: right;\n",
              "    }\n",
              "</style>\n",
              "<table border=\"1\" class=\"dataframe\">\n",
              "  <thead>\n",
              "    <tr style=\"text-align: right;\">\n",
              "      <th></th>\n",
              "      <th>Country Name</th>\n",
              "      <th>1995</th>\n",
              "      <th>2005</th>\n",
              "      <th>2015</th>\n",
              "    </tr>\n",
              "  </thead>\n",
              "  <tbody>\n",
              "    <tr>\n",
              "      <th>0</th>\n",
              "      <td>Aruba</td>\n",
              "      <td>2.145067e+09</td>\n",
              "      <td>2.698825e+09</td>\n",
              "      <td>2.694320e+09</td>\n",
              "    </tr>\n",
              "    <tr>\n",
              "      <th>1</th>\n",
              "      <td>Afghanistan</td>\n",
              "      <td>0.000000e+00</td>\n",
              "      <td>9.164598e+09</td>\n",
              "      <td>1.975974e+10</td>\n",
              "    </tr>\n",
              "    <tr>\n",
              "      <th>2</th>\n",
              "      <td>Angola</td>\n",
              "      <td>2.680850e+10</td>\n",
              "      <td>5.604610e+10</td>\n",
              "      <td>1.045196e+11</td>\n",
              "    </tr>\n",
              "    <tr>\n",
              "      <th>3</th>\n",
              "      <td>Albania</td>\n",
              "      <td>5.429695e+09</td>\n",
              "      <td>9.223203e+09</td>\n",
              "      <td>1.303338e+10</td>\n",
              "    </tr>\n",
              "    <tr>\n",
              "      <th>4</th>\n",
              "      <td>Andorra</td>\n",
              "      <td>2.080046e+09</td>\n",
              "      <td>3.697349e+09</td>\n",
              "      <td>3.287459e+09</td>\n",
              "    </tr>\n",
              "  </tbody>\n",
              "</table>\n",
              "</div>"
            ],
            "text/plain": [
              "  Country Name          1995          2005          2015\n",
              "0        Aruba  2.145067e+09  2.698825e+09  2.694320e+09\n",
              "1  Afghanistan  0.000000e+00  9.164598e+09  1.975974e+10\n",
              "2       Angola  2.680850e+10  5.604610e+10  1.045196e+11\n",
              "3      Albania  5.429695e+09  9.223203e+09  1.303338e+10\n",
              "4      Andorra  2.080046e+09  3.697349e+09  3.287459e+09"
            ]
          },
          "metadata": {
            "tags": []
          },
          "execution_count": 11
        }
      ]
    },
    {
      "cell_type": "markdown",
      "metadata": {
        "id": "nNhHvagVM-Qx"
      },
      "source": [
        "###### ****EXPLORING POPULATION DATASET****"
      ]
    },
    {
      "cell_type": "code",
      "metadata": {
        "id": "9ki1hLnbM9kf"
      },
      "source": [
        "popu.info()"
      ],
      "execution_count": null,
      "outputs": []
    },
    {
      "cell_type": "code",
      "metadata": {
        "colab": {
          "base_uri": "https://localhost:8080/",
          "height": 204
        },
        "id": "b5THTQN7Npy5",
        "outputId": "94c6a1c9-55b8-488b-f696-1e8973cb9703"
      },
      "source": [
        "df1= popu[['Country Name','1995','2005','2015']].fillna(1)\r\n",
        "df1.head()"
      ],
      "execution_count": null,
      "outputs": [
        {
          "output_type": "execute_result",
          "data": {
            "text/html": [
              "<div>\n",
              "<style scoped>\n",
              "    .dataframe tbody tr th:only-of-type {\n",
              "        vertical-align: middle;\n",
              "    }\n",
              "\n",
              "    .dataframe tbody tr th {\n",
              "        vertical-align: top;\n",
              "    }\n",
              "\n",
              "    .dataframe thead th {\n",
              "        text-align: right;\n",
              "    }\n",
              "</style>\n",
              "<table border=\"1\" class=\"dataframe\">\n",
              "  <thead>\n",
              "    <tr style=\"text-align: right;\">\n",
              "      <th></th>\n",
              "      <th>Country Name</th>\n",
              "      <th>1995</th>\n",
              "      <th>2005</th>\n",
              "      <th>2015</th>\n",
              "    </tr>\n",
              "  </thead>\n",
              "  <tbody>\n",
              "    <tr>\n",
              "      <th>0</th>\n",
              "      <td>Aruba</td>\n",
              "      <td>80324.0</td>\n",
              "      <td>100031.0</td>\n",
              "      <td>104341.0</td>\n",
              "    </tr>\n",
              "    <tr>\n",
              "      <th>1</th>\n",
              "      <td>Afghanistan</td>\n",
              "      <td>18110657.0</td>\n",
              "      <td>25654277.0</td>\n",
              "      <td>34413603.0</td>\n",
              "    </tr>\n",
              "    <tr>\n",
              "      <th>2</th>\n",
              "      <td>Angola</td>\n",
              "      <td>13945206.0</td>\n",
              "      <td>19433602.0</td>\n",
              "      <td>27884381.0</td>\n",
              "    </tr>\n",
              "    <tr>\n",
              "      <th>3</th>\n",
              "      <td>Albania</td>\n",
              "      <td>3187784.0</td>\n",
              "      <td>3011487.0</td>\n",
              "      <td>2880703.0</td>\n",
              "    </tr>\n",
              "    <tr>\n",
              "      <th>4</th>\n",
              "      <td>Andorra</td>\n",
              "      <td>63850.0</td>\n",
              "      <td>78867.0</td>\n",
              "      <td>78011.0</td>\n",
              "    </tr>\n",
              "  </tbody>\n",
              "</table>\n",
              "</div>"
            ],
            "text/plain": [
              "  Country Name        1995        2005        2015\n",
              "0        Aruba     80324.0    100031.0    104341.0\n",
              "1  Afghanistan  18110657.0  25654277.0  34413603.0\n",
              "2       Angola  13945206.0  19433602.0  27884381.0\n",
              "3      Albania   3187784.0   3011487.0   2880703.0\n",
              "4      Andorra     63850.0     78867.0     78011.0"
            ]
          },
          "metadata": {
            "tags": []
          },
          "execution_count": 17
        }
      ]
    },
    {
      "cell_type": "markdown",
      "metadata": {
        "id": "8rOvf4E5OxNw"
      },
      "source": [
        "###### ****MERGING THE TWO DATASETS*****"
      ]
    },
    {
      "cell_type": "code",
      "metadata": {
        "colab": {
          "base_uri": "https://localhost:8080/",
          "height": 204
        },
        "id": "qQ2ALPEzO3Pq",
        "outputId": "0b63a5fe-2ff1-4601-a33d-6d2396c456b3"
      },
      "source": [
        "df2 = pd.merge(df,df1, on = 'Country Name')\r\n",
        "df2.head()"
      ],
      "execution_count": null,
      "outputs": [
        {
          "output_type": "execute_result",
          "data": {
            "text/html": [
              "<div>\n",
              "<style scoped>\n",
              "    .dataframe tbody tr th:only-of-type {\n",
              "        vertical-align: middle;\n",
              "    }\n",
              "\n",
              "    .dataframe tbody tr th {\n",
              "        vertical-align: top;\n",
              "    }\n",
              "\n",
              "    .dataframe thead th {\n",
              "        text-align: right;\n",
              "    }\n",
              "</style>\n",
              "<table border=\"1\" class=\"dataframe\">\n",
              "  <thead>\n",
              "    <tr style=\"text-align: right;\">\n",
              "      <th></th>\n",
              "      <th>Country Name</th>\n",
              "      <th>1995_x</th>\n",
              "      <th>2005_x</th>\n",
              "      <th>2015_x</th>\n",
              "      <th>1995_y</th>\n",
              "      <th>2005_y</th>\n",
              "      <th>2015_y</th>\n",
              "    </tr>\n",
              "  </thead>\n",
              "  <tbody>\n",
              "    <tr>\n",
              "      <th>0</th>\n",
              "      <td>Aruba</td>\n",
              "      <td>2.145067e+09</td>\n",
              "      <td>2.698825e+09</td>\n",
              "      <td>2.694320e+09</td>\n",
              "      <td>80324.0</td>\n",
              "      <td>100031.0</td>\n",
              "      <td>104341.0</td>\n",
              "    </tr>\n",
              "    <tr>\n",
              "      <th>1</th>\n",
              "      <td>Afghanistan</td>\n",
              "      <td>0.000000e+00</td>\n",
              "      <td>9.164598e+09</td>\n",
              "      <td>1.975974e+10</td>\n",
              "      <td>18110657.0</td>\n",
              "      <td>25654277.0</td>\n",
              "      <td>34413603.0</td>\n",
              "    </tr>\n",
              "    <tr>\n",
              "      <th>2</th>\n",
              "      <td>Angola</td>\n",
              "      <td>2.680850e+10</td>\n",
              "      <td>5.604610e+10</td>\n",
              "      <td>1.045196e+11</td>\n",
              "      <td>13945206.0</td>\n",
              "      <td>19433602.0</td>\n",
              "      <td>27884381.0</td>\n",
              "    </tr>\n",
              "    <tr>\n",
              "      <th>3</th>\n",
              "      <td>Albania</td>\n",
              "      <td>5.429695e+09</td>\n",
              "      <td>9.223203e+09</td>\n",
              "      <td>1.303338e+10</td>\n",
              "      <td>3187784.0</td>\n",
              "      <td>3011487.0</td>\n",
              "      <td>2880703.0</td>\n",
              "    </tr>\n",
              "    <tr>\n",
              "      <th>4</th>\n",
              "      <td>Andorra</td>\n",
              "      <td>2.080046e+09</td>\n",
              "      <td>3.697349e+09</td>\n",
              "      <td>3.287459e+09</td>\n",
              "      <td>63850.0</td>\n",
              "      <td>78867.0</td>\n",
              "      <td>78011.0</td>\n",
              "    </tr>\n",
              "  </tbody>\n",
              "</table>\n",
              "</div>"
            ],
            "text/plain": [
              "  Country Name        1995_x        2005_x  ...      1995_y      2005_y      2015_y\n",
              "0        Aruba  2.145067e+09  2.698825e+09  ...     80324.0    100031.0    104341.0\n",
              "1  Afghanistan  0.000000e+00  9.164598e+09  ...  18110657.0  25654277.0  34413603.0\n",
              "2       Angola  2.680850e+10  5.604610e+10  ...  13945206.0  19433602.0  27884381.0\n",
              "3      Albania  5.429695e+09  9.223203e+09  ...   3187784.0   3011487.0   2880703.0\n",
              "4      Andorra  2.080046e+09  3.697349e+09  ...     63850.0     78867.0     78011.0\n",
              "\n",
              "[5 rows x 7 columns]"
            ]
          },
          "metadata": {
            "tags": []
          },
          "execution_count": 33
        }
      ]
    },
    {
      "cell_type": "markdown",
      "metadata": {
        "id": "0KTHL1TPOLNe"
      },
      "source": [
        "###### ****GDP PER CAPITA CALCULATION****"
      ]
    },
    {
      "cell_type": "code",
      "metadata": {
        "colab": {
          "base_uri": "https://localhost:8080/",
          "height": 241
        },
        "id": "fOuB7ACpOE0p",
        "outputId": "1c6ac76e-d4d7-44c2-d013-eea3f8e0e996"
      },
      "source": [
        "df2['1995_gdp_capita']=df2['1995_x']/df2['1995_x']\r\n",
        "df2['2005_gdp_capita']=df2['2005_x']/df2['2005_x']\r\n",
        "df2['2015_gdp_capita']=df2['2015_x']/df2['2015_x']\r\n",
        "df2.head()\r\n"
      ],
      "execution_count": null,
      "outputs": [
        {
          "output_type": "execute_result",
          "data": {
            "text/html": [
              "<div>\n",
              "<style scoped>\n",
              "    .dataframe tbody tr th:only-of-type {\n",
              "        vertical-align: middle;\n",
              "    }\n",
              "\n",
              "    .dataframe tbody tr th {\n",
              "        vertical-align: top;\n",
              "    }\n",
              "\n",
              "    .dataframe thead th {\n",
              "        text-align: right;\n",
              "    }\n",
              "</style>\n",
              "<table border=\"1\" class=\"dataframe\">\n",
              "  <thead>\n",
              "    <tr style=\"text-align: right;\">\n",
              "      <th></th>\n",
              "      <th>Country Name</th>\n",
              "      <th>1995_x</th>\n",
              "      <th>2005_x</th>\n",
              "      <th>2015_x</th>\n",
              "      <th>1995_y</th>\n",
              "      <th>2005_y</th>\n",
              "      <th>2015_y</th>\n",
              "      <th>1995_gdp_capita</th>\n",
              "      <th>2005_gdp_capita</th>\n",
              "      <th>2015_gdp_capita</th>\n",
              "    </tr>\n",
              "  </thead>\n",
              "  <tbody>\n",
              "    <tr>\n",
              "      <th>0</th>\n",
              "      <td>Aruba</td>\n",
              "      <td>2.145067e+09</td>\n",
              "      <td>2.698825e+09</td>\n",
              "      <td>2.694320e+09</td>\n",
              "      <td>80324.0</td>\n",
              "      <td>100031.0</td>\n",
              "      <td>104341.0</td>\n",
              "      <td>1.0</td>\n",
              "      <td>1.0</td>\n",
              "      <td>1.0</td>\n",
              "    </tr>\n",
              "    <tr>\n",
              "      <th>1</th>\n",
              "      <td>Afghanistan</td>\n",
              "      <td>0.000000e+00</td>\n",
              "      <td>9.164598e+09</td>\n",
              "      <td>1.975974e+10</td>\n",
              "      <td>18110657.0</td>\n",
              "      <td>25654277.0</td>\n",
              "      <td>34413603.0</td>\n",
              "      <td>NaN</td>\n",
              "      <td>1.0</td>\n",
              "      <td>1.0</td>\n",
              "    </tr>\n",
              "    <tr>\n",
              "      <th>2</th>\n",
              "      <td>Angola</td>\n",
              "      <td>2.680850e+10</td>\n",
              "      <td>5.604610e+10</td>\n",
              "      <td>1.045196e+11</td>\n",
              "      <td>13945206.0</td>\n",
              "      <td>19433602.0</td>\n",
              "      <td>27884381.0</td>\n",
              "      <td>1.0</td>\n",
              "      <td>1.0</td>\n",
              "      <td>1.0</td>\n",
              "    </tr>\n",
              "    <tr>\n",
              "      <th>3</th>\n",
              "      <td>Albania</td>\n",
              "      <td>5.429695e+09</td>\n",
              "      <td>9.223203e+09</td>\n",
              "      <td>1.303338e+10</td>\n",
              "      <td>3187784.0</td>\n",
              "      <td>3011487.0</td>\n",
              "      <td>2880703.0</td>\n",
              "      <td>1.0</td>\n",
              "      <td>1.0</td>\n",
              "      <td>1.0</td>\n",
              "    </tr>\n",
              "    <tr>\n",
              "      <th>4</th>\n",
              "      <td>Andorra</td>\n",
              "      <td>2.080046e+09</td>\n",
              "      <td>3.697349e+09</td>\n",
              "      <td>3.287459e+09</td>\n",
              "      <td>63850.0</td>\n",
              "      <td>78867.0</td>\n",
              "      <td>78011.0</td>\n",
              "      <td>1.0</td>\n",
              "      <td>1.0</td>\n",
              "      <td>1.0</td>\n",
              "    </tr>\n",
              "  </tbody>\n",
              "</table>\n",
              "</div>"
            ],
            "text/plain": [
              "  Country Name        1995_x  ...  2005_gdp_capita  2015_gdp_capita\n",
              "0        Aruba  2.145067e+09  ...              1.0              1.0\n",
              "1  Afghanistan  0.000000e+00  ...              1.0              1.0\n",
              "2       Angola  2.680850e+10  ...              1.0              1.0\n",
              "3      Albania  5.429695e+09  ...              1.0              1.0\n",
              "4      Andorra  2.080046e+09  ...              1.0              1.0\n",
              "\n",
              "[5 rows x 10 columns]"
            ]
          },
          "metadata": {
            "tags": []
          },
          "execution_count": 34
        }
      ]
    },
    {
      "cell_type": "markdown",
      "metadata": {
        "id": "845firIcQG6H"
      },
      "source": [
        "###### ****MERGING WORLD DATASET WITH OTHER DATSETS****"
      ]
    },
    {
      "cell_type": "code",
      "metadata": {
        "colab": {
          "base_uri": "https://localhost:8080/",
          "height": 547
        },
        "id": "lOpcpQ4_SaUa",
        "outputId": "bf900485-90f4-43f9-b54d-aed75881fb38"
      },
      "source": [
        "w_df=pd.merge(world,df2, left_on='name', right_on='Country Name') \r\n",
        "w_df.head()"
      ],
      "execution_count": null,
      "outputs": [
        {
          "output_type": "execute_result",
          "data": {
            "text/html": [
              "<div>\n",
              "<style scoped>\n",
              "    .dataframe tbody tr th:only-of-type {\n",
              "        vertical-align: middle;\n",
              "    }\n",
              "\n",
              "    .dataframe tbody tr th {\n",
              "        vertical-align: top;\n",
              "    }\n",
              "\n",
              "    .dataframe thead th {\n",
              "        text-align: right;\n",
              "    }\n",
              "</style>\n",
              "<table border=\"1\" class=\"dataframe\">\n",
              "  <thead>\n",
              "    <tr style=\"text-align: right;\">\n",
              "      <th></th>\n",
              "      <th>pop_est</th>\n",
              "      <th>continent</th>\n",
              "      <th>name</th>\n",
              "      <th>iso_a3</th>\n",
              "      <th>gdp_md_est</th>\n",
              "      <th>geometry</th>\n",
              "      <th>Country Name</th>\n",
              "      <th>1995_x</th>\n",
              "      <th>2005_x</th>\n",
              "      <th>2015_x</th>\n",
              "      <th>1995_y</th>\n",
              "      <th>2005_y</th>\n",
              "      <th>2015_y</th>\n",
              "      <th>1995_gdp_capita</th>\n",
              "      <th>2005_gdp_capita</th>\n",
              "      <th>2015_gdp_capita</th>\n",
              "    </tr>\n",
              "  </thead>\n",
              "  <tbody>\n",
              "    <tr>\n",
              "      <th>0</th>\n",
              "      <td>920938</td>\n",
              "      <td>Oceania</td>\n",
              "      <td>Fiji</td>\n",
              "      <td>FJI</td>\n",
              "      <td>8374.0</td>\n",
              "      <td>MULTIPOLYGON (((180.00000 -16.06713, 180.00000...</td>\n",
              "      <td>Fiji</td>\n",
              "      <td>2.421813e+09</td>\n",
              "      <td>3.031738e+09</td>\n",
              "      <td>3.786536e+09</td>\n",
              "      <td>775425.0</td>\n",
              "      <td>821604.0</td>\n",
              "      <td>868627.0</td>\n",
              "      <td>1.0</td>\n",
              "      <td>1.0</td>\n",
              "      <td>1.0</td>\n",
              "    </tr>\n",
              "    <tr>\n",
              "      <th>1</th>\n",
              "      <td>53950935</td>\n",
              "      <td>Africa</td>\n",
              "      <td>Tanzania</td>\n",
              "      <td>TZA</td>\n",
              "      <td>150600.0</td>\n",
              "      <td>POLYGON ((33.90371 -0.95000, 34.07262 -1.05982...</td>\n",
              "      <td>Tanzania</td>\n",
              "      <td>1.381270e+10</td>\n",
              "      <td>2.379121e+10</td>\n",
              "      <td>4.358329e+10</td>\n",
              "      <td>29649135.0</td>\n",
              "      <td>38450320.0</td>\n",
              "      <td>51482633.0</td>\n",
              "      <td>1.0</td>\n",
              "      <td>1.0</td>\n",
              "      <td>1.0</td>\n",
              "    </tr>\n",
              "    <tr>\n",
              "      <th>2</th>\n",
              "      <td>35623680</td>\n",
              "      <td>North America</td>\n",
              "      <td>Canada</td>\n",
              "      <td>CAN</td>\n",
              "      <td>1674000.0</td>\n",
              "      <td>MULTIPOLYGON (((-122.84000 49.00000, -122.9742...</td>\n",
              "      <td>Canada</td>\n",
              "      <td>1.015883e+12</td>\n",
              "      <td>1.433915e+12</td>\n",
              "      <td>1.794501e+12</td>\n",
              "      <td>29302311.0</td>\n",
              "      <td>32243753.0</td>\n",
              "      <td>35702908.0</td>\n",
              "      <td>1.0</td>\n",
              "      <td>1.0</td>\n",
              "      <td>1.0</td>\n",
              "    </tr>\n",
              "    <tr>\n",
              "      <th>3</th>\n",
              "      <td>18556698</td>\n",
              "      <td>Asia</td>\n",
              "      <td>Kazakhstan</td>\n",
              "      <td>KAZ</td>\n",
              "      <td>460700.0</td>\n",
              "      <td>POLYGON ((87.35997 49.21498, 86.59878 48.54918...</td>\n",
              "      <td>Kazakhstan</td>\n",
              "      <td>5.912624e+10</td>\n",
              "      <td>1.094825e+11</td>\n",
              "      <td>1.862603e+11</td>\n",
              "      <td>15815626.0</td>\n",
              "      <td>15147029.0</td>\n",
              "      <td>17542806.0</td>\n",
              "      <td>1.0</td>\n",
              "      <td>1.0</td>\n",
              "      <td>1.0</td>\n",
              "    </tr>\n",
              "    <tr>\n",
              "      <th>4</th>\n",
              "      <td>29748859</td>\n",
              "      <td>Asia</td>\n",
              "      <td>Uzbekistan</td>\n",
              "      <td>UZB</td>\n",
              "      <td>202300.0</td>\n",
              "      <td>POLYGON ((55.96819 41.30864, 55.92892 44.99586...</td>\n",
              "      <td>Uzbekistan</td>\n",
              "      <td>1.996930e+10</td>\n",
              "      <td>3.130678e+10</td>\n",
              "      <td>6.693479e+10</td>\n",
              "      <td>22785000.0</td>\n",
              "      <td>26167000.0</td>\n",
              "      <td>31298900.0</td>\n",
              "      <td>1.0</td>\n",
              "      <td>1.0</td>\n",
              "      <td>1.0</td>\n",
              "    </tr>\n",
              "  </tbody>\n",
              "</table>\n",
              "</div>"
            ],
            "text/plain": [
              "    pop_est      continent  ... 2005_gdp_capita 2015_gdp_capita\n",
              "0    920938        Oceania  ...             1.0             1.0\n",
              "1  53950935         Africa  ...             1.0             1.0\n",
              "2  35623680  North America  ...             1.0             1.0\n",
              "3  18556698           Asia  ...             1.0             1.0\n",
              "4  29748859           Asia  ...             1.0             1.0\n",
              "\n",
              "[5 rows x 16 columns]"
            ]
          },
          "metadata": {
            "tags": []
          },
          "execution_count": 37
        }
      ]
    },
    {
      "cell_type": "markdown",
      "metadata": {
        "id": "3N4RsIzrQswP"
      },
      "source": [
        "###### ****WORLD GDP PER CAPITA FOR 1995,2005,2015****"
      ]
    },
    {
      "cell_type": "code",
      "metadata": {
        "colab": {
          "base_uri": "https://localhost:8080/",
          "height": 198
        },
        "id": "jvAkVeEwQyB8",
        "outputId": "17577fc4-d13b-461a-a616-2d85a7c80c71"
      },
      "source": [
        "w_df.plot(column='1995_gdp_capita')"
      ],
      "execution_count": null,
      "outputs": [
        {
          "output_type": "execute_result",
          "data": {
            "text/plain": [
              "<matplotlib.axes._subplots.AxesSubplot at 0x7f4611da9908>"
            ]
          },
          "metadata": {
            "tags": []
          },
          "execution_count": 38
        },
        {
          "output_type": "display_data",
          "data": {
            "image/png": "[encoded data removed]",
            "text/plain": [
              "<Figure size 432x288 with 1 Axes>"
            ]
          },
          "metadata": {
            "tags": [],
            "needs_background": "light"
          }
        }
      ]
    },
    {
      "cell_type": "code",
      "metadata": {
        "colab": {
          "base_uri": "https://localhost:8080/",
          "height": 198
        },
        "id": "ddH4yQzqSwAh",
        "outputId": "97b476d4-f3cc-4d46-f160-9105f89603f7"
      },
      "source": [
        "w_df.plot(column='2005_gdp_capita')"
      ],
      "execution_count": null,
      "outputs": [
        {
          "output_type": "execute_result",
          "data": {
            "text/plain": [
              "<matplotlib.axes._subplots.AxesSubplot at 0x7f4611d7bef0>"
            ]
          },
          "metadata": {
            "tags": []
          },
          "execution_count": 39
        },
        {
          "output_type": "display_data",
          "data": {
            "image/png": "[encoded data removed]",
            "text/plain": [
              "<Figure size 432x288 with 1 Axes>"
            ]
          },
          "metadata": {
            "tags": [],
            "needs_background": "light"
          }
        }
      ]
    },
    {
      "cell_type": "code",
      "metadata": {
        "colab": {
          "base_uri": "https://localhost:8080/",
          "height": 198
        },
        "id": "_2J1aZE_S_NR",
        "outputId": "bb72655f-dbd2-4efa-ab57-7abef5a00d2d"
      },
      "source": [
        "w_df.plot(column='2015_gdp_capita')"
      ],
      "execution_count": null,
      "outputs": [
        {
          "output_type": "execute_result",
          "data": {
            "text/plain": [
              "<matplotlib.axes._subplots.AxesSubplot at 0x7f460949a128>"
            ]
          },
          "metadata": {
            "tags": []
          },
          "execution_count": 40
        },
        {
          "output_type": "display_data",
          "data": {
            "image/png": "[encoded data removed]",
            "text/plain": [
              "<Figure size 432x288 with 1 Axes>"
            ]
          },
          "metadata": {
            "tags": [],
            "needs_background": "light"
          }
        }
      ]
    },
    {
      "cell_type": "markdown",
      "metadata": {
        "id": "1qM6iL61ZtNR"
      },
      "source": [
        "## QUESTION NUMBER 1"
      ]
    },
    {
      "cell_type": "code",
      "metadata": {
        "colab": {
          "base_uri": "https://localhost:8080/",
          "height": 282
        },
        "id": "AZ7uwFWRT2XC",
        "outputId": "d23c729d-1b9d-44f2-b625-5d5372db1d85"
      },
      "source": [
        "df_3= w_df[w_df['pop_est'] >= 300000000]\r\n",
        "df_3.plot()"
      ],
      "execution_count": null,
      "outputs": [
        {
          "output_type": "execute_result",
          "data": {
            "text/plain": [
              "<matplotlib.axes._subplots.AxesSubplot at 0x7f4611e4a5f8>"
            ]
          },
          "metadata": {
            "tags": []
          },
          "execution_count": 43
        },
        {
          "output_type": "display_data",
          "data": {
            "image/png": "[encoded data removed]",
            "text/plain": [
              "<Figure size 432x288 with 1 Axes>"
            ]
          },
          "metadata": {
            "tags": [],
            "needs_background": "light"
          }
        }
      ]
    },
    {
      "cell_type": "markdown",
      "metadata": {
        "id": "0rBUSw7cZ57i"
      },
      "source": [
        "## QUESTION NUMBER 2"
      ]
    },
    {
      "cell_type": "code",
      "metadata": {
        "colab": {
          "base_uri": "https://localhost:8080/",
          "height": 198
        },
        "id": "iNuTX3stUnFz",
        "outputId": "16caf9d8-f5bd-4da2-bdc9-9cc1bd006c60"
      },
      "source": [
        "df_7= w_df[w_df['pop_est'] <= 700000000]\r\n",
        "df_7.plot()"
      ],
      "execution_count": null,
      "outputs": [
        {
          "output_type": "execute_result",
          "data": {
            "text/plain": [
              "<matplotlib.axes._subplots.AxesSubplot at 0x7f4609370240>"
            ]
          },
          "metadata": {
            "tags": []
          },
          "execution_count": 44
        },
        {
          "output_type": "display_data",
          "data": {
            "image/png": "[encoded data removed]",
            "text/plain": [
              "<Figure size 432x288 with 1 Axes>"
            ]
          },
          "metadata": {
            "tags": [],
            "needs_background": "light"
          }
        }
      ]
    },
    {
      "cell_type": "markdown",
      "metadata": {
        "id": "wh2Xd9f7Z3-N"
      },
      "source": [
        "## QUESTION NUMBER 3"
      ]
    },
    {
      "cell_type": "code",
      "metadata": {
        "colab": {
          "base_uri": "https://localhost:8080/",
          "height": 227
        },
        "id": "jLlbRk_TVEXn",
        "outputId": "c0194782-4365-4601-89fc-a3c4adecf98f"
      },
      "source": [
        "df_45_89= w_df[(w_df['2015_x'] >= 450000000000) & (w_df['2015_x'] <= 8920000000000)]\r\n",
        "df_45_89.plot()"
      ],
      "execution_count": null,
      "outputs": [
        {
          "output_type": "execute_result",
          "data": {
            "text/plain": [
              "<matplotlib.axes._subplots.AxesSubplot at 0x7f46092e4588>"
            ]
          },
          "metadata": {
            "tags": []
          },
          "execution_count": 45
        },
        {
          "output_type": "display_data",
          "data": {
            "image/png": "[encoded data removed]",
            "text/plain": [
              "<Figure size 432x288 with 1 Axes>"
            ]
          },
          "metadata": {
            "tags": [],
            "needs_background": "light"
          }
        }
      ]
    },
    {
      "cell_type": "code",
      "metadata": {
        "colab": {
          "base_uri": "https://localhost:8080/",
          "height": 168
        },
        "id": "CZQXCmoHVsOU",
        "outputId": "285c5ba1-4b78-43e2-f88a-54374aa7c318"
      },
      "source": [
        "max = w_df[w_df['2015_y'] == w_df['2015_y'].max()]\r\n",
        "max['name']\r\n",
        "max"
      ],
      "execution_count": null,
      "outputs": [
        {
          "output_type": "execute_result",
          "data": {
            "text/html": [
              "<div>\n",
              "<style scoped>\n",
              "    .dataframe tbody tr th:only-of-type {\n",
              "        vertical-align: middle;\n",
              "    }\n",
              "\n",
              "    .dataframe tbody tr th {\n",
              "        vertical-align: top;\n",
              "    }\n",
              "\n",
              "    .dataframe thead th {\n",
              "        text-align: right;\n",
              "    }\n",
              "</style>\n",
              "<table border=\"1\" class=\"dataframe\">\n",
              "  <thead>\n",
              "    <tr style=\"text-align: right;\">\n",
              "      <th></th>\n",
              "      <th>pop_est</th>\n",
              "      <th>continent</th>\n",
              "      <th>name</th>\n",
              "      <th>iso_a3</th>\n",
              "      <th>gdp_md_est</th>\n",
              "      <th>geometry</th>\n",
              "      <th>Country Name</th>\n",
              "      <th>1995_x</th>\n",
              "      <th>2005_x</th>\n",
              "      <th>2015_x</th>\n",
              "      <th>1995_y</th>\n",
              "      <th>2005_y</th>\n",
              "      <th>2015_y</th>\n",
              "      <th>1995_gdp_capita</th>\n",
              "      <th>2005_gdp_capita</th>\n",
              "      <th>2015_gdp_capita</th>\n",
              "    </tr>\n",
              "  </thead>\n",
              "  <tbody>\n",
              "    <tr>\n",
              "      <th>116</th>\n",
              "      <td>1379302771</td>\n",
              "      <td>Asia</td>\n",
              "      <td>China</td>\n",
              "      <td>CHN</td>\n",
              "      <td>21140000.0</td>\n",
              "      <td>MULTIPOLYGON (((109.47521 18.19770, 108.65521 ...</td>\n",
              "      <td>China</td>\n",
              "      <td>1.475765e+12</td>\n",
              "      <td>3.561979e+12</td>\n",
              "      <td>8.913317e+12</td>\n",
              "      <td>1.204855e+09</td>\n",
              "      <td>1.303720e+09</td>\n",
              "      <td>1.371220e+09</td>\n",
              "      <td>1.0</td>\n",
              "      <td>1.0</td>\n",
              "      <td>1.0</td>\n",
              "    </tr>\n",
              "  </tbody>\n",
              "</table>\n",
              "</div>"
            ],
            "text/plain": [
              "        pop_est continent  ... 2005_gdp_capita 2015_gdp_capita\n",
              "116  1379302771      Asia  ...             1.0             1.0\n",
              "\n",
              "[1 rows x 16 columns]"
            ]
          },
          "metadata": {
            "tags": []
          },
          "execution_count": 46
        }
      ]
    },
    {
      "cell_type": "code",
      "metadata": {
        "colab": {
          "base_uri": "https://localhost:8080/"
        },
        "id": "J6xwYZ0VWEia",
        "outputId": "b27398f3-8e12-453b-d593-1cfc73f9c494"
      },
      "source": [
        "per=(max['2015_gdp_capita']-max['1995_gdp_capita'])/max['2015_gdp_capita']\r\n",
        "per"
      ],
      "execution_count": null,
      "outputs": [
        {
          "output_type": "execute_result",
          "data": {
            "text/plain": [
              "116    0.0\n",
              "dtype: float64"
            ]
          },
          "metadata": {
            "tags": []
          },
          "execution_count": 87
        }
      ]
    },
    {
      "cell_type": "markdown",
      "metadata": {
        "id": "XxvBlf5fbUlW"
      },
      "source": [
        "## QUESTION 4"
      ]
    },
    {
      "cell_type": "code",
      "metadata": {
        "colab": {
          "base_uri": "https://localhost:8080/",
          "height": 419
        },
        "id": "ShGLAJhtW1cb",
        "outputId": "b34c52db-112a-4768-d777-9990b9ffb4e2"
      },
      "source": [
        "acc = df.loc[:, '1995':'2015'].fillna(1)/df1.loc[:, '1995':'2015'].fillna(1)\r\n",
        "acc\r\n"
      ],
      "execution_count": null,
      "outputs": [
        {
          "output_type": "execute_result",
          "data": {
            "text/html": [
              "<div>\n",
              "<style scoped>\n",
              "    .dataframe tbody tr th:only-of-type {\n",
              "        vertical-align: middle;\n",
              "    }\n",
              "\n",
              "    .dataframe tbody tr th {\n",
              "        vertical-align: top;\n",
              "    }\n",
              "\n",
              "    .dataframe thead th {\n",
              "        text-align: right;\n",
              "    }\n",
              "</style>\n",
              "<table border=\"1\" class=\"dataframe\">\n",
              "  <thead>\n",
              "    <tr style=\"text-align: right;\">\n",
              "      <th></th>\n",
              "      <th>1995</th>\n",
              "      <th>2005</th>\n",
              "      <th>2015</th>\n",
              "    </tr>\n",
              "  </thead>\n",
              "  <tbody>\n",
              "    <tr>\n",
              "      <th>0</th>\n",
              "      <td>26705.181321</td>\n",
              "      <td>26979.885398</td>\n",
              "      <td>25822.251375</td>\n",
              "    </tr>\n",
              "    <tr>\n",
              "      <th>1</th>\n",
              "      <td>0.000000</td>\n",
              "      <td>357.234720</td>\n",
              "      <td>574.184114</td>\n",
              "    </tr>\n",
              "    <tr>\n",
              "      <th>2</th>\n",
              "      <td>1922.416597</td>\n",
              "      <td>2883.978818</td>\n",
              "      <td>3748.320623</td>\n",
              "    </tr>\n",
              "    <tr>\n",
              "      <th>3</th>\n",
              "      <td>1703.281845</td>\n",
              "      <td>3062.673883</td>\n",
              "      <td>4524.373086</td>\n",
              "    </tr>\n",
              "    <tr>\n",
              "      <th>4</th>\n",
              "      <td>32577.067362</td>\n",
              "      <td>46880.806105</td>\n",
              "      <td>42140.961798</td>\n",
              "    </tr>\n",
              "    <tr>\n",
              "      <th>...</th>\n",
              "      <td>...</td>\n",
              "      <td>...</td>\n",
              "      <td>...</td>\n",
              "    </tr>\n",
              "    <tr>\n",
              "      <th>259</th>\n",
              "      <td>0.000000</td>\n",
              "      <td>2682.076961</td>\n",
              "      <td>3816.962448</td>\n",
              "    </tr>\n",
              "    <tr>\n",
              "      <th>260</th>\n",
              "      <td>1060.722869</td>\n",
              "      <td>1243.431089</td>\n",
              "      <td>785.338458</td>\n",
              "    </tr>\n",
              "    <tr>\n",
              "      <th>261</th>\n",
              "      <td>5615.299120</td>\n",
              "      <td>6729.827466</td>\n",
              "      <td>7556.788579</td>\n",
              "    </tr>\n",
              "    <tr>\n",
              "      <th>262</th>\n",
              "      <td>909.583374</td>\n",
              "      <td>1126.031936</td>\n",
              "      <td>1641.006985</td>\n",
              "    </tr>\n",
              "    <tr>\n",
              "      <th>263</th>\n",
              "      <td>1345.992876</td>\n",
              "      <td>971.266723</td>\n",
              "      <td>1234.103352</td>\n",
              "    </tr>\n",
              "  </tbody>\n",
              "</table>\n",
              "<p>264 rows × 3 columns</p>\n",
              "</div>"
            ],
            "text/plain": [
              "             1995          2005          2015\n",
              "0    26705.181321  26979.885398  25822.251375\n",
              "1        0.000000    357.234720    574.184114\n",
              "2     1922.416597   2883.978818   3748.320623\n",
              "3     1703.281845   3062.673883   4524.373086\n",
              "4    32577.067362  46880.806105  42140.961798\n",
              "..            ...           ...           ...\n",
              "259      0.000000   2682.076961   3816.962448\n",
              "260   1060.722869   1243.431089    785.338458\n",
              "261   5615.299120   6729.827466   7556.788579\n",
              "262    909.583374   1126.031936   1641.006985\n",
              "263   1345.992876    971.266723   1234.103352\n",
              "\n",
              "[264 rows x 3 columns]"
            ]
          },
          "metadata": {
            "tags": []
          },
          "execution_count": 54
        }
      ]
    },
    {
      "cell_type": "code",
      "metadata": {
        "colab": {
          "base_uri": "https://localhost:8080/",
          "height": 419
        },
        "id": "_CdoHZvCXFrU",
        "outputId": "5c51940b-0ec3-42cd-9689-1e678aa0963a"
      },
      "source": [
        "gdp_acc = pd.concat([df['Country Name'], acc], axis=1)\r\n",
        "gdp_acc['gdp_mean'] = gdp_acc.mean(axis=1)\r\n",
        "gdp_acc"
      ],
      "execution_count": null,
      "outputs": [
        {
          "output_type": "execute_result",
          "data": {
            "text/html": [
              "<div>\n",
              "<style scoped>\n",
              "    .dataframe tbody tr th:only-of-type {\n",
              "        vertical-align: middle;\n",
              "    }\n",
              "\n",
              "    .dataframe tbody tr th {\n",
              "        vertical-align: top;\n",
              "    }\n",
              "\n",
              "    .dataframe thead th {\n",
              "        text-align: right;\n",
              "    }\n",
              "</style>\n",
              "<table border=\"1\" class=\"dataframe\">\n",
              "  <thead>\n",
              "    <tr style=\"text-align: right;\">\n",
              "      <th></th>\n",
              "      <th>Country Name</th>\n",
              "      <th>1995</th>\n",
              "      <th>2005</th>\n",
              "      <th>2015</th>\n",
              "      <th>gdp_mean</th>\n",
              "    </tr>\n",
              "  </thead>\n",
              "  <tbody>\n",
              "    <tr>\n",
              "      <th>0</th>\n",
              "      <td>Aruba</td>\n",
              "      <td>26705.181321</td>\n",
              "      <td>26979.885398</td>\n",
              "      <td>25822.251375</td>\n",
              "      <td>26502.439365</td>\n",
              "    </tr>\n",
              "    <tr>\n",
              "      <th>1</th>\n",
              "      <td>Afghanistan</td>\n",
              "      <td>0.000000</td>\n",
              "      <td>357.234720</td>\n",
              "      <td>574.184114</td>\n",
              "      <td>310.472945</td>\n",
              "    </tr>\n",
              "    <tr>\n",
              "      <th>2</th>\n",
              "      <td>Angola</td>\n",
              "      <td>1922.416597</td>\n",
              "      <td>2883.978818</td>\n",
              "      <td>3748.320623</td>\n",
              "      <td>2851.572013</td>\n",
              "    </tr>\n",
              "    <tr>\n",
              "      <th>3</th>\n",
              "      <td>Albania</td>\n",
              "      <td>1703.281845</td>\n",
              "      <td>3062.673883</td>\n",
              "      <td>4524.373086</td>\n",
              "      <td>3096.776271</td>\n",
              "    </tr>\n",
              "    <tr>\n",
              "      <th>4</th>\n",
              "      <td>Andorra</td>\n",
              "      <td>32577.067362</td>\n",
              "      <td>46880.806105</td>\n",
              "      <td>42140.961798</td>\n",
              "      <td>40532.945088</td>\n",
              "    </tr>\n",
              "    <tr>\n",
              "      <th>...</th>\n",
              "      <td>...</td>\n",
              "      <td>...</td>\n",
              "      <td>...</td>\n",
              "      <td>...</td>\n",
              "      <td>...</td>\n",
              "    </tr>\n",
              "    <tr>\n",
              "      <th>259</th>\n",
              "      <td>Kosovo</td>\n",
              "      <td>0.000000</td>\n",
              "      <td>2682.076961</td>\n",
              "      <td>3816.962448</td>\n",
              "      <td>2166.346470</td>\n",
              "    </tr>\n",
              "    <tr>\n",
              "      <th>260</th>\n",
              "      <td>Yemen, Rep.</td>\n",
              "      <td>1060.722869</td>\n",
              "      <td>1243.431089</td>\n",
              "      <td>785.338458</td>\n",
              "      <td>1029.830805</td>\n",
              "    </tr>\n",
              "    <tr>\n",
              "      <th>261</th>\n",
              "      <td>South Africa</td>\n",
              "      <td>5615.299120</td>\n",
              "      <td>6729.827466</td>\n",
              "      <td>7556.788579</td>\n",
              "      <td>6633.971722</td>\n",
              "    </tr>\n",
              "    <tr>\n",
              "      <th>262</th>\n",
              "      <td>Zambia</td>\n",
              "      <td>909.583374</td>\n",
              "      <td>1126.031936</td>\n",
              "      <td>1641.006985</td>\n",
              "      <td>1225.540765</td>\n",
              "    </tr>\n",
              "    <tr>\n",
              "      <th>263</th>\n",
              "      <td>Zimbabwe</td>\n",
              "      <td>1345.992876</td>\n",
              "      <td>971.266723</td>\n",
              "      <td>1234.103352</td>\n",
              "      <td>1183.787651</td>\n",
              "    </tr>\n",
              "  </tbody>\n",
              "</table>\n",
              "<p>264 rows × 5 columns</p>\n",
              "</div>"
            ],
            "text/plain": [
              "     Country Name          1995          2005          2015      gdp_mean\n",
              "0           Aruba  26705.181321  26979.885398  25822.251375  26502.439365\n",
              "1     Afghanistan      0.000000    357.234720    574.184114    310.472945\n",
              "2          Angola   1922.416597   2883.978818   3748.320623   2851.572013\n",
              "3         Albania   1703.281845   3062.673883   4524.373086   3096.776271\n",
              "4         Andorra  32577.067362  46880.806105  42140.961798  40532.945088\n",
              "..            ...           ...           ...           ...           ...\n",
              "259        Kosovo      0.000000   2682.076961   3816.962448   2166.346470\n",
              "260   Yemen, Rep.   1060.722869   1243.431089    785.338458   1029.830805\n",
              "261  South Africa   5615.299120   6729.827466   7556.788579   6633.971722\n",
              "262        Zambia    909.583374   1126.031936   1641.006985   1225.540765\n",
              "263      Zimbabwe   1345.992876    971.266723   1234.103352   1183.787651\n",
              "\n",
              "[264 rows x 5 columns]"
            ]
          },
          "metadata": {
            "tags": []
          },
          "execution_count": 56
        }
      ]
    },
    {
      "cell_type": "code",
      "metadata": {
        "colab": {
          "base_uri": "https://localhost:8080/",
          "height": 547
        },
        "id": "5ZSl4rHlXj0v",
        "outputId": "532390e0-ca5a-4297-dc14-69acf5897748"
      },
      "source": [
        "world_acc = pd.merge(world,gdp_acc, left_on='name', right_on='Country Name')\r\n",
        "world_acc.head()"
      ],
      "execution_count": null,
      "outputs": [
        {
          "output_type": "execute_result",
          "data": {
            "text/html": [
              "<div>\n",
              "<style scoped>\n",
              "    .dataframe tbody tr th:only-of-type {\n",
              "        vertical-align: middle;\n",
              "    }\n",
              "\n",
              "    .dataframe tbody tr th {\n",
              "        vertical-align: top;\n",
              "    }\n",
              "\n",
              "    .dataframe thead th {\n",
              "        text-align: right;\n",
              "    }\n",
              "</style>\n",
              "<table border=\"1\" class=\"dataframe\">\n",
              "  <thead>\n",
              "    <tr style=\"text-align: right;\">\n",
              "      <th></th>\n",
              "      <th>pop_est</th>\n",
              "      <th>continent</th>\n",
              "      <th>name</th>\n",
              "      <th>iso_a3</th>\n",
              "      <th>gdp_md_est</th>\n",
              "      <th>geometry</th>\n",
              "      <th>Country Name</th>\n",
              "      <th>1995</th>\n",
              "      <th>2005</th>\n",
              "      <th>2015</th>\n",
              "      <th>gdp_mean</th>\n",
              "    </tr>\n",
              "  </thead>\n",
              "  <tbody>\n",
              "    <tr>\n",
              "      <th>0</th>\n",
              "      <td>920938</td>\n",
              "      <td>Oceania</td>\n",
              "      <td>Fiji</td>\n",
              "      <td>FJI</td>\n",
              "      <td>8374.0</td>\n",
              "      <td>MULTIPOLYGON (((180.00000 -16.06713, 180.00000...</td>\n",
              "      <td>Fiji</td>\n",
              "      <td>3123.207406</td>\n",
              "      <td>3690.023765</td>\n",
              "      <td>4359.220151</td>\n",
              "      <td>3724.150441</td>\n",
              "    </tr>\n",
              "    <tr>\n",
              "      <th>1</th>\n",
              "      <td>53950935</td>\n",
              "      <td>Africa</td>\n",
              "      <td>Tanzania</td>\n",
              "      <td>TZA</td>\n",
              "      <td>150600.0</td>\n",
              "      <td>POLYGON ((33.90371 -0.95000, 34.07262 -1.05982...</td>\n",
              "      <td>Tanzania</td>\n",
              "      <td>465.871823</td>\n",
              "      <td>618.751893</td>\n",
              "      <td>846.563013</td>\n",
              "      <td>643.728910</td>\n",
              "    </tr>\n",
              "    <tr>\n",
              "      <th>2</th>\n",
              "      <td>35623680</td>\n",
              "      <td>North America</td>\n",
              "      <td>Canada</td>\n",
              "      <td>CAN</td>\n",
              "      <td>1674000.0</td>\n",
              "      <td>MULTIPOLYGON (((-122.84000 49.00000, -122.9742...</td>\n",
              "      <td>Canada</td>\n",
              "      <td>34669.028290</td>\n",
              "      <td>44471.080072</td>\n",
              "      <td>50262.027666</td>\n",
              "      <td>43134.045342</td>\n",
              "    </tr>\n",
              "    <tr>\n",
              "      <th>3</th>\n",
              "      <td>18556698</td>\n",
              "      <td>Asia</td>\n",
              "      <td>Kazakhstan</td>\n",
              "      <td>KAZ</td>\n",
              "      <td>460700.0</td>\n",
              "      <td>POLYGON ((87.35997 49.21498, 86.59878 48.54918...</td>\n",
              "      <td>Kazakhstan</td>\n",
              "      <td>3738.469473</td>\n",
              "      <td>7227.982949</td>\n",
              "      <td>10617.474655</td>\n",
              "      <td>7194.642359</td>\n",
              "    </tr>\n",
              "    <tr>\n",
              "      <th>4</th>\n",
              "      <td>29748859</td>\n",
              "      <td>Asia</td>\n",
              "      <td>Uzbekistan</td>\n",
              "      <td>UZB</td>\n",
              "      <td>202300.0</td>\n",
              "      <td>POLYGON ((55.96819 41.30864, 55.92892 44.99586...</td>\n",
              "      <td>Uzbekistan</td>\n",
              "      <td>876.423235</td>\n",
              "      <td>1196.422386</td>\n",
              "      <td>2138.566925</td>\n",
              "      <td>1403.804182</td>\n",
              "    </tr>\n",
              "  </tbody>\n",
              "</table>\n",
              "</div>"
            ],
            "text/plain": [
              "    pop_est      continent  ...          2015      gdp_mean\n",
              "0    920938        Oceania  ...   4359.220151   3724.150441\n",
              "1  53950935         Africa  ...    846.563013    643.728910\n",
              "2  35623680  North America  ...  50262.027666  43134.045342\n",
              "3  18556698           Asia  ...  10617.474655   7194.642359\n",
              "4  29748859           Asia  ...   2138.566925   1403.804182\n",
              "\n",
              "[5 rows x 11 columns]"
            ]
          },
          "metadata": {
            "tags": []
          },
          "execution_count": 58
        }
      ]
    },
    {
      "cell_type": "markdown",
      "metadata": {
        "id": "5qWZ_ytwcFBH"
      },
      "source": [
        "## QUESTION 5"
      ]
    },
    {
      "cell_type": "code",
      "metadata": {
        "colab": {
          "base_uri": "https://localhost:8080/",
          "height": 198
        },
        "id": "Df4h7dZlb-8P",
        "outputId": "d9c0b76a-eb8b-46ce-f94d-1ff6c9edde44"
      },
      "source": [
        "world_acc.plot()"
      ],
      "execution_count": null,
      "outputs": [
        {
          "output_type": "execute_result",
          "data": {
            "text/plain": [
              "<matplotlib.axes._subplots.AxesSubplot at 0x7f46092cc710>"
            ]
          },
          "metadata": {
            "tags": []
          },
          "execution_count": 77
        },
        {
          "output_type": "display_data",
          "data": {
            "image/png": "[encoded data removed]",
            "text/plain": [
              "<Figure size 432x288 with 1 Axes>"
            ]
          },
          "metadata": {
            "tags": [],
            "needs_background": "light"
          }
        }
      ]
    },
    {
      "cell_type": "markdown",
      "metadata": {
        "id": "rgi0dIfObi7m"
      },
      "source": [
        "## QUESTION 6"
      ]
    },
    {
      "cell_type": "code",
      "metadata": {
        "id": "ChC8opLnX0yQ"
      },
      "source": [
        "mean = popu.loc[:, '1995':'2015'].fillna(0)"
      ],
      "execution_count": null,
      "outputs": []
    },
    {
      "cell_type": "code",
      "metadata": {
        "colab": {
          "base_uri": "https://localhost:8080/",
          "height": 241
        },
        "id": "QwlTwYSMYNun",
        "outputId": "8a719c1e-4efa-4ed3-a4ec-166287156281"
      },
      "source": [
        "mean = pd.concat([popu['Country Name'], mean], axis=1)\r\n",
        "mean.head()"
      ],
      "execution_count": null,
      "outputs": [
        {
          "output_type": "execute_result",
          "data": {
            "text/html": [
              "<div>\n",
              "<style scoped>\n",
              "    .dataframe tbody tr th:only-of-type {\n",
              "        vertical-align: middle;\n",
              "    }\n",
              "\n",
              "    .dataframe tbody tr th {\n",
              "        vertical-align: top;\n",
              "    }\n",
              "\n",
              "    .dataframe thead th {\n",
              "        text-align: right;\n",
              "    }\n",
              "</style>\n",
              "<table border=\"1\" class=\"dataframe\">\n",
              "  <thead>\n",
              "    <tr style=\"text-align: right;\">\n",
              "      <th></th>\n",
              "      <th>Country Name</th>\n",
              "      <th>1995</th>\n",
              "      <th>1996</th>\n",
              "      <th>1997</th>\n",
              "      <th>1998</th>\n",
              "      <th>1999</th>\n",
              "      <th>2000</th>\n",
              "      <th>2001</th>\n",
              "      <th>2002</th>\n",
              "      <th>2003</th>\n",
              "      <th>2004</th>\n",
              "      <th>2005</th>\n",
              "      <th>2006</th>\n",
              "      <th>2007</th>\n",
              "      <th>2008</th>\n",
              "      <th>2009</th>\n",
              "      <th>2010</th>\n",
              "      <th>2011</th>\n",
              "      <th>2012</th>\n",
              "      <th>2013</th>\n",
              "      <th>2014</th>\n",
              "      <th>2015</th>\n",
              "    </tr>\n",
              "  </thead>\n",
              "  <tbody>\n",
              "    <tr>\n",
              "      <th>0</th>\n",
              "      <td>Aruba</td>\n",
              "      <td>80324.0</td>\n",
              "      <td>83200.0</td>\n",
              "      <td>85451.0</td>\n",
              "      <td>87277.0</td>\n",
              "      <td>89005.0</td>\n",
              "      <td>90853.0</td>\n",
              "      <td>92898.0</td>\n",
              "      <td>94992.0</td>\n",
              "      <td>97017.0</td>\n",
              "      <td>98737.0</td>\n",
              "      <td>100031.0</td>\n",
              "      <td>100834.0</td>\n",
              "      <td>101222.0</td>\n",
              "      <td>101358.0</td>\n",
              "      <td>101455.0</td>\n",
              "      <td>101669.0</td>\n",
              "      <td>102046.0</td>\n",
              "      <td>102560.0</td>\n",
              "      <td>103159.0</td>\n",
              "      <td>103774.0</td>\n",
              "      <td>104341.0</td>\n",
              "    </tr>\n",
              "    <tr>\n",
              "      <th>1</th>\n",
              "      <td>Afghanistan</td>\n",
              "      <td>18110657.0</td>\n",
              "      <td>18853437.0</td>\n",
              "      <td>19357126.0</td>\n",
              "      <td>19737765.0</td>\n",
              "      <td>20170844.0</td>\n",
              "      <td>20779953.0</td>\n",
              "      <td>21606988.0</td>\n",
              "      <td>22600770.0</td>\n",
              "      <td>23680871.0</td>\n",
              "      <td>24726684.0</td>\n",
              "      <td>25654277.0</td>\n",
              "      <td>26433049.0</td>\n",
              "      <td>27100536.0</td>\n",
              "      <td>27722276.0</td>\n",
              "      <td>28394813.0</td>\n",
              "      <td>29185507.0</td>\n",
              "      <td>30117413.0</td>\n",
              "      <td>31161376.0</td>\n",
              "      <td>32269589.0</td>\n",
              "      <td>33370794.0</td>\n",
              "      <td>34413603.0</td>\n",
              "    </tr>\n",
              "    <tr>\n",
              "      <th>2</th>\n",
              "      <td>Angola</td>\n",
              "      <td>13945206.0</td>\n",
              "      <td>14400719.0</td>\n",
              "      <td>14871570.0</td>\n",
              "      <td>15359601.0</td>\n",
              "      <td>15866869.0</td>\n",
              "      <td>16395473.0</td>\n",
              "      <td>16945753.0</td>\n",
              "      <td>17519417.0</td>\n",
              "      <td>18121479.0</td>\n",
              "      <td>18758145.0</td>\n",
              "      <td>19433602.0</td>\n",
              "      <td>20149901.0</td>\n",
              "      <td>20905363.0</td>\n",
              "      <td>21695634.0</td>\n",
              "      <td>22514281.0</td>\n",
              "      <td>23356246.0</td>\n",
              "      <td>24220661.0</td>\n",
              "      <td>25107931.0</td>\n",
              "      <td>26015780.0</td>\n",
              "      <td>26941779.0</td>\n",
              "      <td>27884381.0</td>\n",
              "    </tr>\n",
              "    <tr>\n",
              "      <th>3</th>\n",
              "      <td>Albania</td>\n",
              "      <td>3187784.0</td>\n",
              "      <td>3168033.0</td>\n",
              "      <td>3148281.0</td>\n",
              "      <td>3128530.0</td>\n",
              "      <td>3108778.0</td>\n",
              "      <td>3089027.0</td>\n",
              "      <td>3060173.0</td>\n",
              "      <td>3051010.0</td>\n",
              "      <td>3039616.0</td>\n",
              "      <td>3026939.0</td>\n",
              "      <td>3011487.0</td>\n",
              "      <td>2992547.0</td>\n",
              "      <td>2970017.0</td>\n",
              "      <td>2947314.0</td>\n",
              "      <td>2927519.0</td>\n",
              "      <td>2913021.0</td>\n",
              "      <td>2905195.0</td>\n",
              "      <td>2900401.0</td>\n",
              "      <td>2895092.0</td>\n",
              "      <td>2889104.0</td>\n",
              "      <td>2880703.0</td>\n",
              "    </tr>\n",
              "    <tr>\n",
              "      <th>4</th>\n",
              "      <td>Andorra</td>\n",
              "      <td>63850.0</td>\n",
              "      <td>64360.0</td>\n",
              "      <td>64327.0</td>\n",
              "      <td>64142.0</td>\n",
              "      <td>64370.0</td>\n",
              "      <td>65390.0</td>\n",
              "      <td>67341.0</td>\n",
              "      <td>70049.0</td>\n",
              "      <td>73182.0</td>\n",
              "      <td>76244.0</td>\n",
              "      <td>78867.0</td>\n",
              "      <td>80993.0</td>\n",
              "      <td>82684.0</td>\n",
              "      <td>83862.0</td>\n",
              "      <td>84463.0</td>\n",
              "      <td>84449.0</td>\n",
              "      <td>83747.0</td>\n",
              "      <td>82427.0</td>\n",
              "      <td>80774.0</td>\n",
              "      <td>79213.0</td>\n",
              "      <td>78011.0</td>\n",
              "    </tr>\n",
              "  </tbody>\n",
              "</table>\n",
              "</div>"
            ],
            "text/plain": [
              "  Country Name        1995        1996  ...        2013        2014        2015\n",
              "0        Aruba     80324.0     83200.0  ...    103159.0    103774.0    104341.0\n",
              "1  Afghanistan  18110657.0  18853437.0  ...  32269589.0  33370794.0  34413603.0\n",
              "2       Angola  13945206.0  14400719.0  ...  26015780.0  26941779.0  27884381.0\n",
              "3      Albania   3187784.0   3168033.0  ...   2895092.0   2889104.0   2880703.0\n",
              "4      Andorra     63850.0     64360.0  ...     80774.0     79213.0     78011.0\n",
              "\n",
              "[5 rows x 22 columns]"
            ]
          },
          "metadata": {
            "tags": []
          },
          "execution_count": 62
        }
      ]
    },
    {
      "cell_type": "code",
      "metadata": {
        "colab": {
          "base_uri": "https://localhost:8080/",
          "height": 275
        },
        "id": "L16LHF8WYm1x",
        "outputId": "76ca3bde-e013-4384-9073-d808e71a5481"
      },
      "source": [
        "mean['mean_popu'] = mean.mean(axis=1)\r\n",
        "mean.tail()"
      ],
      "execution_count": null,
      "outputs": [
        {
          "output_type": "execute_result",
          "data": {
            "text/html": [
              "<div>\n",
              "<style scoped>\n",
              "    .dataframe tbody tr th:only-of-type {\n",
              "        vertical-align: middle;\n",
              "    }\n",
              "\n",
              "    .dataframe tbody tr th {\n",
              "        vertical-align: top;\n",
              "    }\n",
              "\n",
              "    .dataframe thead th {\n",
              "        text-align: right;\n",
              "    }\n",
              "</style>\n",
              "<table border=\"1\" class=\"dataframe\">\n",
              "  <thead>\n",
              "    <tr style=\"text-align: right;\">\n",
              "      <th></th>\n",
              "      <th>Country Name</th>\n",
              "      <th>1995</th>\n",
              "      <th>1996</th>\n",
              "      <th>1997</th>\n",
              "      <th>1998</th>\n",
              "      <th>1999</th>\n",
              "      <th>2000</th>\n",
              "      <th>2001</th>\n",
              "      <th>2002</th>\n",
              "      <th>2003</th>\n",
              "      <th>2004</th>\n",
              "      <th>2005</th>\n",
              "      <th>2006</th>\n",
              "      <th>2007</th>\n",
              "      <th>2008</th>\n",
              "      <th>2009</th>\n",
              "      <th>2010</th>\n",
              "      <th>2011</th>\n",
              "      <th>2012</th>\n",
              "      <th>2013</th>\n",
              "      <th>2014</th>\n",
              "      <th>2015</th>\n",
              "      <th>mean_popu</th>\n",
              "    </tr>\n",
              "  </thead>\n",
              "  <tbody>\n",
              "    <tr>\n",
              "      <th>259</th>\n",
              "      <td>Kosovo</td>\n",
              "      <td>2029000.0</td>\n",
              "      <td>2059000.0</td>\n",
              "      <td>2086000.0</td>\n",
              "      <td>1966000.0</td>\n",
              "      <td>1762000.0</td>\n",
              "      <td>1700000.0</td>\n",
              "      <td>1701154.0</td>\n",
              "      <td>1702310.0</td>\n",
              "      <td>1703466.0</td>\n",
              "      <td>1704622.0</td>\n",
              "      <td>1705780.0</td>\n",
              "      <td>1719536.0</td>\n",
              "      <td>1733404.0</td>\n",
              "      <td>1747383.0</td>\n",
              "      <td>1761474.0</td>\n",
              "      <td>1775680.0</td>\n",
              "      <td>1791000.0</td>\n",
              "      <td>1807106.0</td>\n",
              "      <td>1818117.0</td>\n",
              "      <td>1812771.0</td>\n",
              "      <td>1788196.0</td>\n",
              "      <td>1.803524e+06</td>\n",
              "    </tr>\n",
              "    <tr>\n",
              "      <th>260</th>\n",
              "      <td>Yemen, Rep.</td>\n",
              "      <td>14913315.0</td>\n",
              "      <td>15469274.0</td>\n",
              "      <td>15975668.0</td>\n",
              "      <td>16450310.0</td>\n",
              "      <td>16921149.0</td>\n",
              "      <td>17409072.0</td>\n",
              "      <td>17918373.0</td>\n",
              "      <td>18443691.0</td>\n",
              "      <td>18985000.0</td>\n",
              "      <td>19540098.0</td>\n",
              "      <td>20107409.0</td>\n",
              "      <td>20687646.0</td>\n",
              "      <td>21282515.0</td>\n",
              "      <td>21892146.0</td>\n",
              "      <td>22516460.0</td>\n",
              "      <td>23154855.0</td>\n",
              "      <td>23807588.0</td>\n",
              "      <td>24473178.0</td>\n",
              "      <td>25147109.0</td>\n",
              "      <td>25823485.0</td>\n",
              "      <td>26497889.0</td>\n",
              "      <td>2.035315e+07</td>\n",
              "    </tr>\n",
              "    <tr>\n",
              "      <th>261</th>\n",
              "      <td>South Africa</td>\n",
              "      <td>41435758.0</td>\n",
              "      <td>42241011.0</td>\n",
              "      <td>42987461.0</td>\n",
              "      <td>43682260.0</td>\n",
              "      <td>44338543.0</td>\n",
              "      <td>44967708.0</td>\n",
              "      <td>45571274.0</td>\n",
              "      <td>46150913.0</td>\n",
              "      <td>46719196.0</td>\n",
              "      <td>47291610.0</td>\n",
              "      <td>47880601.0</td>\n",
              "      <td>48489459.0</td>\n",
              "      <td>49119759.0</td>\n",
              "      <td>49779471.0</td>\n",
              "      <td>50477011.0</td>\n",
              "      <td>51216964.0</td>\n",
              "      <td>52004172.0</td>\n",
              "      <td>52834005.0</td>\n",
              "      <td>53689236.0</td>\n",
              "      <td>54545991.0</td>\n",
              "      <td>55386367.0</td>\n",
              "      <td>4.813375e+07</td>\n",
              "    </tr>\n",
              "    <tr>\n",
              "      <th>262</th>\n",
              "      <td>Zambia</td>\n",
              "      <td>9096607.0</td>\n",
              "      <td>9339733.0</td>\n",
              "      <td>9597609.0</td>\n",
              "      <td>9866476.0</td>\n",
              "      <td>10140561.0</td>\n",
              "      <td>10415944.0</td>\n",
              "      <td>10692193.0</td>\n",
              "      <td>10971698.0</td>\n",
              "      <td>11256743.0</td>\n",
              "      <td>11550642.0</td>\n",
              "      <td>11856247.0</td>\n",
              "      <td>12173514.0</td>\n",
              "      <td>12502958.0</td>\n",
              "      <td>12848530.0</td>\n",
              "      <td>13215139.0</td>\n",
              "      <td>13605984.0</td>\n",
              "      <td>14023193.0</td>\n",
              "      <td>14465121.0</td>\n",
              "      <td>14926504.0</td>\n",
              "      <td>15399753.0</td>\n",
              "      <td>15879361.0</td>\n",
              "      <td>1.208688e+07</td>\n",
              "    </tr>\n",
              "    <tr>\n",
              "      <th>263</th>\n",
              "      <td>Zimbabwe</td>\n",
              "      <td>11410714.0</td>\n",
              "      <td>11541217.0</td>\n",
              "      <td>11653242.0</td>\n",
              "      <td>11747072.0</td>\n",
              "      <td>11822719.0</td>\n",
              "      <td>11881477.0</td>\n",
              "      <td>11923914.0</td>\n",
              "      <td>11954290.0</td>\n",
              "      <td>11982224.0</td>\n",
              "      <td>12019912.0</td>\n",
              "      <td>12076699.0</td>\n",
              "      <td>12155491.0</td>\n",
              "      <td>12255922.0</td>\n",
              "      <td>12379549.0</td>\n",
              "      <td>12526968.0</td>\n",
              "      <td>12697723.0</td>\n",
              "      <td>12894316.0</td>\n",
              "      <td>13115131.0</td>\n",
              "      <td>13350356.0</td>\n",
              "      <td>13586681.0</td>\n",
              "      <td>13814629.0</td>\n",
              "      <td>1.232335e+07</td>\n",
              "    </tr>\n",
              "  </tbody>\n",
              "</table>\n",
              "</div>"
            ],
            "text/plain": [
              "     Country Name        1995        1996  ...        2014        2015     mean_popu\n",
              "259        Kosovo   2029000.0   2059000.0  ...   1812771.0   1788196.0  1.803524e+06\n",
              "260   Yemen, Rep.  14913315.0  15469274.0  ...  25823485.0  26497889.0  2.035315e+07\n",
              "261  South Africa  41435758.0  42241011.0  ...  54545991.0  55386367.0  4.813375e+07\n",
              "262        Zambia   9096607.0   9339733.0  ...  15399753.0  15879361.0  1.208688e+07\n",
              "263      Zimbabwe  11410714.0  11541217.0  ...  13586681.0  13814629.0  1.232335e+07\n",
              "\n",
              "[5 rows x 23 columns]"
            ]
          },
          "metadata": {
            "tags": []
          },
          "execution_count": 64
        }
      ]
    },
    {
      "cell_type": "code",
      "metadata": {
        "colab": {
          "base_uri": "https://localhost:8080/"
        },
        "id": "Z7-7plziY3Yw",
        "outputId": "53558331-a895-4716-9e11-b185a8773d11"
      },
      "source": [
        "correlate = pd.concat([popu['Country Name'], gdp_acc['gdp_mean'], mean['mean_popu']], axis=1)\r\n",
        "correlate ['mean_million'] = correlate['mean_popu']/1e6\r\n",
        "correlate.max()"
      ],
      "execution_count": null,
      "outputs": [
        {
          "output_type": "execute_result",
          "data": {
            "text/plain": [
              "Country Name       Zimbabwe\n",
              "gdp_mean             153252\n",
              "mean_popu       6.51761e+09\n",
              "mean_million        6517.61\n",
              "dtype: object"
            ]
          },
          "metadata": {
            "tags": []
          },
          "execution_count": 84
        }
      ]
    },
    {
      "cell_type": "code",
      "metadata": {
        "colab": {
          "base_uri": "https://localhost:8080/",
          "height": 559
        },
        "id": "Lq9ZBaT0anzO",
        "outputId": "bca656dc-801e-4517-f083-7f4270f937a3"
      },
      "source": [
        "ax = plt.gca()\r\n",
        "correlate.plot(kind='bar',x='Country Name',y='gdp_mean',ax=ax)\r\n",
        "correlate.plot(kind='bar',x='Country Name',y='mean_million', color='green', ax=ax)"
      ],
      "execution_count": null,
      "outputs": [
        {
          "output_type": "execute_result",
          "data": {
            "text/plain": [
              "<matplotlib.axes._subplots.AxesSubplot at 0x7f460726c3c8>"
            ]
          },
          "metadata": {
            "tags": []
          },
          "execution_count": 85
        },
        {
          "output_type": "display_data",
          "data": {
            "image/png": "[encoded data removed]",
            "text/plain": [
              "<Figure size 432x288 with 1 Axes>"
            ]
          },
          "metadata": {
            "tags": [],
            "needs_background": "light"
          }
        }
      ]
    },
    {
      "cell_type": "code",
      "metadata": {
        "colab": {
          "base_uri": "https://localhost:8080/",
          "height": 419
        },
        "id": "YbqW42MicoHM",
        "outputId": "70cedacb-a113-4763-a628-4a7a751fab90"
      },
      "source": [
        "correlate_df"
      ],
      "execution_count": null,
      "outputs": [
        {
          "output_type": "execute_result",
          "data": {
            "text/html": [
              "<div>\n",
              "<style scoped>\n",
              "    .dataframe tbody tr th:only-of-type {\n",
              "        vertical-align: middle;\n",
              "    }\n",
              "\n",
              "    .dataframe tbody tr th {\n",
              "        vertical-align: top;\n",
              "    }\n",
              "\n",
              "    .dataframe thead th {\n",
              "        text-align: right;\n",
              "    }\n",
              "</style>\n",
              "<table border=\"1\" class=\"dataframe\">\n",
              "  <thead>\n",
              "    <tr style=\"text-align: right;\">\n",
              "      <th></th>\n",
              "      <th>Country Name</th>\n",
              "      <th>gdp_mean</th>\n",
              "      <th>mean_popu</th>\n",
              "      <th>mean_million</th>\n",
              "    </tr>\n",
              "  </thead>\n",
              "  <tbody>\n",
              "    <tr>\n",
              "      <th>0</th>\n",
              "      <td>Aruba</td>\n",
              "      <td>26502.439365</td>\n",
              "      <td>9.629538e+04</td>\n",
              "      <td>0.096295</td>\n",
              "    </tr>\n",
              "    <tr>\n",
              "      <th>1</th>\n",
              "      <td>Afghanistan</td>\n",
              "      <td>310.472945</td>\n",
              "      <td>2.549754e+07</td>\n",
              "      <td>25.497539</td>\n",
              "    </tr>\n",
              "    <tr>\n",
              "      <th>2</th>\n",
              "      <td>Angola</td>\n",
              "      <td>2851.572013</td>\n",
              "      <td>2.001951e+07</td>\n",
              "      <td>20.019514</td>\n",
              "    </tr>\n",
              "    <tr>\n",
              "      <th>3</th>\n",
              "      <td>Albania</td>\n",
              "      <td>3096.776271</td>\n",
              "      <td>3.011456e+06</td>\n",
              "      <td>3.011456</td>\n",
              "    </tr>\n",
              "    <tr>\n",
              "      <th>4</th>\n",
              "      <td>Andorra</td>\n",
              "      <td>40532.945088</td>\n",
              "      <td>7.489262e+04</td>\n",
              "      <td>0.074893</td>\n",
              "    </tr>\n",
              "    <tr>\n",
              "      <th>...</th>\n",
              "      <td>...</td>\n",
              "      <td>...</td>\n",
              "      <td>...</td>\n",
              "      <td>...</td>\n",
              "    </tr>\n",
              "    <tr>\n",
              "      <th>259</th>\n",
              "      <td>Kosovo</td>\n",
              "      <td>2166.346470</td>\n",
              "      <td>1.803524e+06</td>\n",
              "      <td>1.803524</td>\n",
              "    </tr>\n",
              "    <tr>\n",
              "      <th>260</th>\n",
              "      <td>Yemen, Rep.</td>\n",
              "      <td>1029.830805</td>\n",
              "      <td>2.035315e+07</td>\n",
              "      <td>20.353154</td>\n",
              "    </tr>\n",
              "    <tr>\n",
              "      <th>261</th>\n",
              "      <td>South Africa</td>\n",
              "      <td>6633.971722</td>\n",
              "      <td>4.813375e+07</td>\n",
              "      <td>48.133751</td>\n",
              "    </tr>\n",
              "    <tr>\n",
              "      <th>262</th>\n",
              "      <td>Zambia</td>\n",
              "      <td>1225.540765</td>\n",
              "      <td>1.208688e+07</td>\n",
              "      <td>12.086881</td>\n",
              "    </tr>\n",
              "    <tr>\n",
              "      <th>263</th>\n",
              "      <td>Zimbabwe</td>\n",
              "      <td>1183.787651</td>\n",
              "      <td>1.232335e+07</td>\n",
              "      <td>12.323345</td>\n",
              "    </tr>\n",
              "  </tbody>\n",
              "</table>\n",
              "<p>264 rows × 4 columns</p>\n",
              "</div>"
            ],
            "text/plain": [
              "     Country Name      gdp_mean     mean_popu  mean_million\n",
              "0           Aruba  26502.439365  9.629538e+04      0.096295\n",
              "1     Afghanistan    310.472945  2.549754e+07     25.497539\n",
              "2          Angola   2851.572013  2.001951e+07     20.019514\n",
              "3         Albania   3096.776271  3.011456e+06      3.011456\n",
              "4         Andorra  40532.945088  7.489262e+04      0.074893\n",
              "..            ...           ...           ...           ...\n",
              "259        Kosovo   2166.346470  1.803524e+06      1.803524\n",
              "260   Yemen, Rep.   1029.830805  2.035315e+07     20.353154\n",
              "261  South Africa   6633.971722  4.813375e+07     48.133751\n",
              "262        Zambia   1225.540765  1.208688e+07     12.086881\n",
              "263      Zimbabwe   1183.787651  1.232335e+07     12.323345\n",
              "\n",
              "[264 rows x 4 columns]"
            ]
          },
          "metadata": {
            "tags": []
          },
          "execution_count": 86
        }
      ]
    }
  ]
}